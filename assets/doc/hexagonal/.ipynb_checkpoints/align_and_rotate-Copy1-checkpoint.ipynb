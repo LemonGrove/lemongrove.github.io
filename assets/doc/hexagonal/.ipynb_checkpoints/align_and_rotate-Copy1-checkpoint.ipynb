{
 "cells": [
  {
   "cell_type": "code",
   "execution_count": 1,
   "metadata": {},
   "outputs": [],
   "source": [
    "import os\n",
    "import numpy as np\n",
    "from angstrom import Molecule\n",
    "from angstrom.visualize import render\n",
    "from angstrom.visualize.blender import Blender\n",
    "from IPython.display import Image"
   ]
  },
  {
   "cell_type": "code",
   "execution_count": 43,
   "metadata": {},
   "outputs": [],
   "source": [
    "mol = Molecule(read=\"tetra-66-3.xyz\")"
   ]
  },
  {
   "cell_type": "code",
   "execution_count": 49,
   "metadata": {},
   "outputs": [],
   "source": [
    "# Align to y axis\n",
    "y_align = [41, 683]\n",
    "c1, c2 = (mol.coordinates[y] for y in y_align)\n",
    "mol.align(c2 - c1, [0, 1, 0])\n",
    "\n",
    "# Align to x axis\n",
    "x_align = [367, 875]\n",
    "c1, c2 = (mol.coordinates[x] for x in x_align)\n",
    "mol.align(c2 - c1, [1, 0, 0])\n",
    "\n",
    "# Rotate slightly to align properly\n",
    "mol.center([0, 0, 0])\n",
    "mol.rotate(([0, 0, 0], [0, 1, 0]), np.deg2rad(8))\n",
    "mol.center([0, 0, 0])\n",
    "\n",
    "# Save\n",
    "mol.write(\"tetra-align.xyz\")"
   ]
  },
  {
   "cell_type": "code",
   "execution_count": 50,
   "metadata": {},
   "outputs": [],
   "source": [
    "blend = Blender()\n",
    "blend.config[\"executable\"] = '/Applications/Blender.app/Contents/MacOS/Blender'\n",
    "blend.config['camera']['type'] = 'PERSP'\n",
    "blend.config['save'] = 'octahedtal.blend'"
   ]
  },
  {
   "cell_type": "code",
   "execution_count": 51,
   "metadata": {},
   "outputs": [
    {
     "name": "stdout",
     "output_type": "stream",
     "text": [
      "Rendering tetra-66-3 image with Blender -> /Users/kbsezginel/kbs/git/lemongrove.github.io/assets/doc/hexagonal/angstrom\n"
     ]
    }
   ],
   "source": [
    "render(mol, renderer=blend)"
   ]
  },
  {
   "cell_type": "code",
   "execution_count": null,
   "metadata": {},
   "outputs": [],
   "source": []
  }
 ],
 "metadata": {
  "kernelspec": {
   "display_name": "Python 3",
   "language": "python",
   "name": "python3"
  },
  "language_info": {
   "codemirror_mode": {
    "name": "ipython",
    "version": 3
   },
   "file_extension": ".py",
   "mimetype": "text/x-python",
   "name": "python",
   "nbconvert_exporter": "python",
   "pygments_lexer": "ipython3",
   "version": "3.6.10"
  }
 },
 "nbformat": 4,
 "nbformat_minor": 4
}
